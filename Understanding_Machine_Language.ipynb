{
  "nbformat": 4,
  "nbformat_minor": 0,
  "metadata": {
    "colab": {
      "provenance": [],
      "authorship_tag": "ABX9TyO4bfItoyM80FUNyVdyEVTJ",
      "include_colab_link": true
    },
    "kernelspec": {
      "name": "python3",
      "display_name": "Python 3"
    },
    "language_info": {
      "name": "python"
    }
  },
  "cells": [
    {
      "cell_type": "markdown",
      "metadata": {
        "id": "view-in-github",
        "colab_type": "text"
      },
      "source": [
        "<a href=\"https://colab.research.google.com/github/IsagiYoichi640/chatbot/blob/main/Understanding_Machine_Language.ipynb\" target=\"_parent\"><img src=\"https://colab.research.google.com/assets/colab-badge.svg\" alt=\"Open In Colab\"/></a>"
      ]
    },
    {
      "cell_type": "code",
      "execution_count": 15,
      "metadata": {
        "id": "0yt9D1dnt7PT"
      },
      "outputs": [],
      "source": [
        "import nltk\n",
        "from nltk.chat.util import Chat,reflections"
      ]
    },
    {
      "cell_type": "code",
      "source": [
        "reflections={\n",
        "    \"i am\" : \"you are\",\n",
        "\"i was\" : \"you were\",\n",
        "\"i\" : \"you\",\n",
        "\"i'm\" : \"you are\",\n",
        "\"i'd\" : \"you would\",\n",
        "\"i've\" : \"you have\",\n",
        "\"i'll\" : \"you will\",\n",
        "\"my\" : \"your\",\n",
        "\"you are\" : \"I am\",\n",
        "\"you were\" : \"I was\",\n",
        "\"you've\" : \"I have\",\n",
        "\"you'll\" : \"I will\",\n",
        "\"your\" : \"my\",\n",
        "\"yours\" : \"mine\",\n",
        "\"you\" : \"me\",\n",
        "\"me\" : \"you\"\n",
        "}"
      ],
      "metadata": {
        "id": "NpZJKFW3uoZn"
      },
      "execution_count": 16,
      "outputs": []
    },
    {
      "cell_type": "code",
      "source": [
        "pairs=[\n",
        "    [\n",
        "        r\"my name is (.*)\",\n",
        "        ['Hi %1, How are u doing today?']\n",
        "    ],\n",
        "    [\n",
        "     r\"my dogs name is (.*)\",\n",
        "     [\"Wow that is a good name for the dog\"]\n",
        "    ],\n",
        "    [\n",
        "        r\"hi|hello|hey\",\n",
        "        [\"Hello, how can i help you today?\"]\n",
        "    ],\n",
        "    [\n",
        "        r\"Where do you live?\",\n",
        "        [\"I dont live anywhere, I am an AI\"]\n",
        "    ],\n",
        "    [\n",
        "        r\"Do you have any great places to recomend to go to?\",\n",
        "        [\"Yeah i have some, Some of the greatest places on earth are The maldives,Italy,Table Mountain,etc\"]\n",
        "\n",
        "    ],\n",
        "    [\n",
        "        r\"quit|exit|stop|bye\",\n",
        "        [\"Goodbye!Hope you have a great day!\"]\n",
        "    ],\n",
        "\n",
        "]"
      ],
      "metadata": {
        "id": "06J6Q-LnwVeB"
      },
      "execution_count": 11,
      "outputs": []
    },
    {
      "cell_type": "code",
      "source": [
        "def chat():\n",
        "  print(\"Hi, I am a chatty, How can i help you today?\")\n",
        "  chat=Chat(pairs,reflections)\n",
        "  chat.converse()\n",
        "if __name__==\"__main__\":\n",
        "  chat()\n"
      ],
      "metadata": {
        "colab": {
          "base_uri": "https://localhost:8080/"
        },
        "id": "QyZKjK7Rz-1V",
        "outputId": "949b52fd-05ec-49a3-ab52-1a1bedc5c7e7"
      },
      "execution_count": 18,
      "outputs": [
        {
          "output_type": "stream",
          "name": "stdout",
          "text": [
            "Hi, I am a chatty, How can i help you today?\n",
            ">Im good\n",
            "None\n",
            ">How are you today?\n",
            "None\n",
            ">I am Rgoer\n",
            "None\n",
            ">My name is Roger\n",
            "Hi roger, How are u doing today?\n",
            ">Where do you live?\n",
            "I dont live anywhere, I am an AI\n",
            ">where do u live\n",
            "None\n",
            ">hi\n",
            "Hello, how can i help you today?\n",
            ">my dog name is roger\n",
            "None\n",
            ">my dogs name is roger\n",
            "Wow that is a good name for the dog\n",
            ">bye\n",
            "Goodbye!Hope you have a great day!\n",
            ">exit\n",
            "Goodbye!Hope you have a great day!\n",
            ">quit\n",
            "Goodbye!Hope you have a great day!\n"
          ]
        }
      ]
    }
  ]
}